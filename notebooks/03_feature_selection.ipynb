{
 "cells": [
  {
   "cell_type": "code",
   "execution_count": 1,
   "id": "a31cc689",
   "metadata": {},
   "outputs": [
    {
     "name": "stdout",
     "output_type": "stream",
     "text": [
      "Original:\n",
      "[[ 63.    1.    1.  145.  233.    1.    2.  150.    0.    2.3   3.    0.\n",
      "    6. ]\n",
      " [ 67.    1.    4.  160.  286.    0.    2.  108.    1.    1.5   2.    3.\n",
      "    3. ]\n",
      " [ 67.    1.    4.  120.  229.    0.    2.  129.    1.    2.6   2.    2.\n",
      "    7. ]\n",
      " [ 37.    1.    3.  130.  250.    0.    0.  187.    0.    3.5   3.    0.\n",
      "    3. ]\n",
      " [ 41.    0.    2.  130.  204.    0.    2.  172.    0.    1.4   1.    0.\n",
      "    3. ]]\n",
      "\n",
      "Scaled:\n",
      "[[ 0.94872647  0.68620244 -2.25177456  0.75752504 -0.2649003   2.394438\n",
      "   1.01668424  0.01719733 -0.69663055  1.08733806  2.27457861 -0.71113139\n",
      "   0.66000414]\n",
      " [ 1.39200191  0.68620244  0.87798549  1.61121989  0.76041519 -0.41763453\n",
      "   1.01668424 -1.82190531  1.43548113  0.39718162  0.64911323  2.5048807\n",
      "  -0.89023814]\n",
      " [ 1.39200191  0.68620244  0.87798549 -0.6652997  -0.34228261 -0.41763453\n",
      "   1.01668424 -0.90235399  1.43548113  1.34614673  0.64911323  1.43287667\n",
      "   1.17675157]\n",
      " [-1.93256387  0.68620244 -0.16526786 -0.0961698   0.06397448 -0.41763453\n",
      "  -0.99674925  1.63735918 -0.69663055  2.12257273  2.27457861 -0.71113139\n",
      "  -0.89023814]\n",
      " [-1.48928843 -1.4572959  -1.20852121 -0.0961698  -0.82592199 -0.41763453\n",
      "   1.01668424  0.98053681 -0.69663055  0.31091206 -0.97635214 -0.71113139\n",
      "  -0.89023814]]\n"
     ]
    }
   ],
   "source": [
    "from sklearn.ensemble import RandomForestClassifier\n",
    "from sklearn.feature_selection import RFE, chi2\n",
    "from sklearn.linear_model import LogisticRegression\n",
    "from sklearn.preprocessing import MinMaxScaler\n",
    "import pandas as pd\n",
    "import matplotlib.pyplot as plt\n",
    "from preprocessing import X, X_encoded, X_scaled, y"
   ]
  },
  {
   "cell_type": "code",
   "execution_count": 2,
   "id": "180374e0",
   "metadata": {},
   "outputs": [
    {
     "data": {
      "image/png": "[encoded data removed]",
      "text/plain": [
       "<Figure size 500x600 with 1 Axes>"
      ]
     },
     "metadata": {},
     "output_type": "display_data"
    },
    {
     "name": "stdout",
     "output_type": "stream",
     "text": [
      "Selected Features via RFE: Index(['cp', 'restecg', 'oldpeak', 'ca', 'thal'], dtype='object')\n",
      "Chi-Square p-values:\n",
      " thal        8.672776e-10\n",
      "exang       2.083076e-08\n",
      "ca          2.154659e-07\n",
      "oldpeak     2.469786e-03\n",
      "slope       7.147746e-03\n",
      "cp          8.336977e-02\n",
      "sex         1.117436e-01\n",
      "restecg     1.343754e-01\n",
      "fbs         1.550901e-01\n",
      "thalach     5.356604e-01\n",
      "age         8.706545e-01\n",
      "trestbps    9.605862e-01\n",
      "chol        9.963506e-01\n",
      "dtype: float64\n",
      "\n",
      "Selected features confirmed by at least 2 methods:\n",
      "       ca  oldpeak  cp  thal  restecg\n",
      "0    0.0      2.3   1   6.0        2\n",
      "1    3.0      1.5   4   3.0        2\n",
      "2    2.0      2.6   4   7.0        2\n",
      "3    0.0      3.5   3   3.0        0\n",
      "4    0.0      1.4   2   3.0        2\n",
      "..   ...      ...  ..   ...      ...\n",
      "298  0.0      1.2   1   7.0        0\n",
      "299  2.0      3.4   4   7.0        0\n",
      "300  1.0      1.2   4   7.0        0\n",
      "301  1.0      0.0   2   3.0        2\n",
      "302  0.0      0.0   3   3.0        0\n",
      "\n",
      "[303 rows x 5 columns]\n"
     ]
    }
   ],
   "source": [
    "###Feature Selection###\n",
    "\n",
    "# Fit Random Forest\n",
    "rf= RandomForestClassifier(random_state=42)\n",
    "rf.fit(X_encoded,y)\n",
    "\n",
    "# Feature importances\n",
    "importances= pd.Series(rf.feature_importances_, index= X.columns)\n",
    "importances= importances.sort_values(ascending=False)\n",
    "\n",
    "# Plot the top features\n",
    "plt.figure(figsize=(5,6))\n",
    "importances.plot(kind='bar')\n",
    "plt.title(\"Feature Importance from Random Forest\")\n",
    "plt.show()\n",
    "\n",
    "# Use Logistic Regression as estimator\n",
    "estimator = LogisticRegression(max_iter=1000)\n",
    "rfe = RFE(estimator, n_features_to_select=5)\n",
    "rfe.fit(X_scaled, y)\n",
    "\n",
    "selected_features = X.columns[rfe.support_]\n",
    "print(\"Selected Features via RFE:\", selected_features)\n",
    "\n",
    "# Scale features to 0-1 (required for chi2)\n",
    "X_scaled_chi = MinMaxScaler().fit_transform(X_encoded)\n",
    "\n",
    "chi_scores, p_values = chi2(X_scaled_chi, y)\n",
    "chi_results = pd.Series(p_values, index=X.columns)\n",
    "chi_results = chi_results.sort_values()\n",
    "print(\"Chi-Square p-values:\\n\",chi_results)\n",
    "\n",
    "# Select features confirmed by at least 2 methods\n",
    "\n",
    "# Top 5 features from Random Forest\n",
    "rf_top = set(importances.index[:5])\n",
    "\n",
    "# Top 5 features from Chi-Square (smallest p-values)\n",
    "chi_top = set(chi_results.index[:5])\n",
    "\n",
    "# Features selected by RFE\n",
    "rfe_top = set(selected_features)\n",
    "\n",
    "# Find features confirmed by at least 2 methods\n",
    "confirmed_features = (rf_top & chi_top) | (rf_top & rfe_top) | (chi_top & rfe_top)\n",
    "\n",
    "# If not enough features, fall back to RFE-selected\n",
    "if len(confirmed_features) < 5:\n",
    "    confirmed_features = rfe_top\n",
    "\n",
    "top_features = list(confirmed_features)\n",
    "X_selected = X[top_features]\n",
    "\n",
    "print(\"\\nSelected features confirmed by at least 2 methods:\\n\", X_selected)\n"
   ]
  }
 ],
 "metadata": {
  "kernelspec": {
   "display_name": "Python 3",
   "language": "python",
   "name": "python3"
  },
  "language_info": {
   "codemirror_mode": {
    "name": "ipython",
    "version": 3
   },
   "file_extension": ".py",
   "mimetype": "text/x-python",
   "name": "python",
   "nbconvert_exporter": "python",
   "pygments_lexer": "ipython3",
   "version": "3.11.0"
  }
 },
 "nbformat": 4,
 "nbformat_minor": 5
}
